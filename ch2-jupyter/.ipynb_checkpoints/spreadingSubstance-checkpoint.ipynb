{
 "cells": [
  {
   "cell_type": "code",
   "execution_count": 13,
   "metadata": {},
   "outputs": [],
   "source": [
    "# 物质扩散\n",
    "from collections import defaultdict\n",
    "import pandas as pd\n",
    "from tqdm import tqdm\n",
    "\n",
    "# 迭代的轮数。一轮迭代包括用户->物品和物品->用户两次扩散\n",
    "step=5\n"
   ]
  },
  {
   "cell_type": "code",
   "execution_count": 14,
   "metadata": {},
   "outputs": [],
   "source": [
    "data=[\n",
    "    ['A','b'],\n",
    "    ['A','d'],\n",
    "    ['B','a'],\n",
    "    ['B','b'],\n",
    "    ['B','c'],\n",
    "    ['C','a'],\n",
    "    ['C','b'],\n",
    "    ['C','d'],\n",
    "    ['D','a'],\n",
    "    ['D','e']\n",
    "]"
   ]
  },
  {
   "cell_type": "code",
   "execution_count": 15,
   "metadata": {},
   "outputs": [
    {
     "data": {
      "text/plain": [
       "{'A': {'b', 'd'}, 'B': {'a', 'b', 'c'}, 'C': {'a', 'b', 'd'}, 'D': {'a', 'e'}}"
      ]
     },
     "execution_count": 15,
     "metadata": {},
     "output_type": "execute_result"
    }
   ],
   "source": [
    "# user->item的映射\n",
    "# key：user\n",
    "# value：item的set\n",
    "train_data = {}\n",
    "\n",
    "for user, item in data:\n",
    "    train_data.setdefault(user,set())\n",
    "    train_data[user].add(item)\n",
    "train_data"
   ]
  },
  {
   "cell_type": "code",
   "execution_count": 16,
   "metadata": {},
   "outputs": [
    {
     "data": {
      "text/plain": [
       "{'d': {'A', 'C'},\n",
       " 'b': {'A', 'B', 'C'},\n",
       " 'a': {'B', 'C', 'D'},\n",
       " 'c': {'B'},\n",
       " 'e': {'D'}}"
      ]
     },
     "execution_count": 16,
     "metadata": {},
     "output_type": "execute_result"
    }
   ],
   "source": [
    "# 建立item_user倒排表\n",
    "item_users = dict()\n",
    "for u, items in train_data.items():\n",
    "    for i in items:\n",
    "        if i not in item_users:\n",
    "            item_users[i] = set()\n",
    "        item_users[i].add(u)\n",
    "item_users"
   ]
  },
  {
   "cell_type": "code",
   "execution_count": 17,
   "metadata": {},
   "outputs": [
    {
     "name": "stderr",
     "output_type": "stream",
     "text": [
      "100%|███████████████████████████████████████████████████████████████████████████████████| 4/4 [00:00<00:00, 501.50it/s]"
     ]
    },
    {
     "name": "stdout",
     "output_type": "stream",
     "text": [
      "A\n",
      "defaultdict(<class 'int'>, {'d': 0.42977325042020187, 'b': 0.6298488100190096, 'a': 0.5747583905421768, 'c': 0.20007555959880774, 'e': 0.16554398941980386})\n",
      "B\n",
      "defaultdict(<class 'int'>, {'a': 0.8974484511803754, 'b': 0.9049897582410369, 'd': 0.5998960807443816, 'e': 0.2925720323375501, 'c': 0.3050936774966553})\n",
      "C\n",
      "defaultdict(<class 'int'>, {'a': 0.8833576312151774, 'b': 0.9195764752842979, 'd': 0.6197937339381276, 'e': 0.2774894182162272, 'c': 0.29978274134617017})\n",
      "D\n",
      "defaultdict(<class 'int'>, {'e': 0.26439456002641876, 'a': 0.6444355270622704, 'b': 0.5455849564556554, 'd': 0.35053693489728865, 'c': 0.19504802155836679})\n"
     ]
    },
    {
     "name": "stderr",
     "output_type": "stream",
     "text": [
      "\n"
     ]
    }
   ],
   "source": [
    "user_item = train_data\n",
    "rec_item = defaultdict(list)\n",
    "for u in tqdm(user_item):\n",
    "    item_cnt = defaultdict(int)\n",
    "    user_cnt = defaultdict(int)\n",
    "    for i in user_item[u]:\n",
    "        item_cnt[i] = 1\n",
    "\n",
    "\n",
    "    for k in range(step*2):\n",
    "        if k % 2 == 1:\n",
    "            # 用户扩散项目\n",
    "            item_cnt = defaultdict(int)\n",
    "            for user in user_cnt:\n",
    "                for item in user_item[user]:\n",
    "                    item_cnt[item] += user_cnt[user] / len(user_item[user])\n",
    "        else:\n",
    "            # 项目扩散用户\n",
    "            user_cnt = defaultdict(int)\n",
    "            for item in item_cnt:\n",
    "                for user in item_users[item]:\n",
    "                    user_cnt[user] += item_cnt[item] / (len(item_users[item]))\n",
    "    res = ((pd.DataFrame(item_cnt, index=[0])).T).sort_values([0], ascending=[0]).index.tolist()\n",
    "    rec_item[u] = [i for i in res if i not in user_item[u]]\n",
    "    print(u)\n",
    "    print(item_cnt)"
   ]
  },
  {
   "cell_type": "code",
   "execution_count": null,
   "metadata": {},
   "outputs": [],
   "source": []
  },
  {
   "cell_type": "code",
   "execution_count": null,
   "metadata": {},
   "outputs": [],
   "source": []
  }
 ],
 "metadata": {
  "kernelspec": {
   "display_name": "Python 3",
   "language": "python",
   "name": "python3"
  },
  "language_info": {
   "codemirror_mode": {
    "name": "ipython",
    "version": 3
   },
   "file_extension": ".py",
   "mimetype": "text/x-python",
   "name": "python",
   "nbconvert_exporter": "python",
   "pygments_lexer": "ipython3",
   "version": "3.6.8"
  }
 },
 "nbformat": 4,
 "nbformat_minor": 4
}
