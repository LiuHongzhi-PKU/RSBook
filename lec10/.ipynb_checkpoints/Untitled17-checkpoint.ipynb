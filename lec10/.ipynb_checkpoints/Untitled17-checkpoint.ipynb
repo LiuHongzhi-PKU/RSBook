{
 "cells": [
  {
   "cell_type": "code",
   "execution_count": 2,
   "metadata": {},
   "outputs": [
    {
     "name": "stdout",
     "output_type": "stream",
     "text": [
      "Initialize end. The user number is: 3139, item number is: 8145"
     ]
    },
    {
     "name": "stderr",
     "output_type": "stream",
     "text": [
      "Traceback (most recent call last):\n",
      "  File \"socialUserCF.py\", line 155, in <module>\n",
      "    ev.evaluateModel(model)\n",
      "  File \"C:\\Users\\Hongda Liu\\RSBook\\lec10\\utils.py\", line 54, in evaluateModel\n",
      "    self.evaluateRating(model)\n",
      "  File \"C:\\Users\\Hongda Liu\\RSBook\\lec10\\utils.py\", line 68, in evaluateRating\n",
      "    mse += math.pow(model.test_data[user][movie] - rui,2)\n",
      "UnboundLocalError: local variable 'mse' referenced before assignment\n"
     ]
    },
    {
     "name": "stdout",
     "output_type": "stream",
     "text": [
      "\n",
      "Evaluating start ...\n"
     ]
    }
   ],
   "source": [
    "!python \"socialUserCF.py\""
   ]
  },
  {
   "cell_type": "code",
   "execution_count": 4,
   "metadata": {},
   "outputs": [
    {
     "data": {
      "text/plain": [
       "True"
      ]
     },
     "execution_count": 4,
     "metadata": {},
     "output_type": "execute_result"
    }
   ],
   "source": [
    "import os\n",
    "data_path='./RSBook/data/epinions/'\n",
    "os.path.exists(data_path+'data_df.txt') "
   ]
  }
 ],
 "metadata": {
  "kernelspec": {
   "display_name": "Python 3",
   "language": "python",
   "name": "python3"
  },
  "language_info": {
   "codemirror_mode": {
    "name": "ipython",
    "version": 3
   },
   "file_extension": ".py",
   "mimetype": "text/x-python",
   "name": "python",
   "nbconvert_exporter": "python",
   "pygments_lexer": "ipython3",
   "version": "3.6.10"
  }
 },
 "nbformat": 4,
 "nbformat_minor": 2
}
