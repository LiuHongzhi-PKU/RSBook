{
 "cells": [
  {
   "cell_type": "code",
   "execution_count": 25,
   "metadata": {},
   "outputs": [],
   "source": [
    "import random\n",
    "import pandas as pd\n",
    "import numpy as np\n",
    "import math\n",
    "from operator import itemgetter\n",
    "import argparse\n",
    "np.random.seed(1024)\n",
    "\n",
    "K=20\n",
    "N=10\n",
    "similarityMeasure=\"pearson\"\n",
    "data_file=\"../data/Rate-jupyter.txt\""
   ]
  },
  {
   "cell_type": "code",
   "execution_count": 26,
   "metadata": {},
   "outputs": [
    {
     "data": {
      "text/plain": [
       "{'A': {'a': 5, 'b': 3, 'c': 4, 'd': 4},\n",
       " 'B': {'a': 3, 'b': 1, 'c': 2, 'd': 2, 'e': 2},\n",
       " 'C': {'a': 4, 'b': 4, 'c': 4, 'd': 4, 'e': 4},\n",
       " 'D': {'a': 3, 'b': 2, 'c': 2, 'e': 3}}"
      ]
     },
     "execution_count": 26,
     "metadata": {},
     "output_type": "execute_result"
    }
   ],
   "source": [
    "data_fields = ['user_id', 'item_id', 'rating']\n",
    "data = pd.read_table(data_file, names=data_fields)\n",
    "# 二维字典\n",
    "train_data = {}\n",
    "\n",
    "# 按照1:9划分数据集\n",
    "for (user, item,record) in data.itertuples(index=False):\n",
    "    train_data.setdefault(user,{})\n",
    "    train_data[user][item] = record\n",
    "\n",
    "n_users = len(set(data['user_id'].values))\n",
    "n_items = len(set(data['item_id'].values))\n",
    "\n",
    "train_data"
   ]
  },
  {
   "cell_type": "code",
   "execution_count": 27,
   "metadata": {},
   "outputs": [
    {
     "data": {
      "text/plain": [
       "{'A': 4.0, 'B': 2.0, 'C': 4.0, 'D': 2.5}"
      ]
     },
     "execution_count": 27,
     "metadata": {},
     "output_type": "execute_result"
    }
   ],
   "source": [
    "# 计算每个用户的平均评分\n",
    "average_rating = {}\n",
    "for u, items in train_data.items():\n",
    "    average_rating.setdefault(u, 0)\n",
    "    for i in items:\n",
    "        average_rating[u] += train_data[u][i] / len(items)\n",
    "average_rating"
   ]
  },
  {
   "cell_type": "code",
   "execution_count": 28,
   "metadata": {},
   "outputs": [
    {
     "data": {
      "text/plain": [
       "{'a': {'A', 'B', 'C', 'D'},\n",
       " 'b': {'A', 'B', 'C', 'D'},\n",
       " 'c': {'A', 'B', 'C', 'D'},\n",
       " 'd': {'A', 'B', 'C'},\n",
       " 'e': {'B', 'C', 'D'}}"
      ]
     },
     "execution_count": 28,
     "metadata": {},
     "output_type": "execute_result"
    }
   ],
   "source": [
    "# 建立item_user倒排表\n",
    "# item->set\n",
    "item_users = dict()\n",
    "for u, items in train_data.items():\n",
    "    for i in items:\n",
    "        if i not in item_users:\n",
    "            item_users[i] = set()\n",
    "        item_users[i].add(u)\n",
    "item_users"
   ]
  },
  {
   "cell_type": "code",
   "execution_count": 29,
   "metadata": {},
   "outputs": [
    {
     "data": {
      "text/plain": [
       "{'A': {'B': 1.0, 'D': 0.8164965809277261, 'C': 0},\n",
       " 'B': {'A': 1.0, 'D': 0.7071067811865475, 'C': 0},\n",
       " 'D': {'A': 0.8164965809277261, 'B': 0.7071067811865475, 'C': 0},\n",
       " 'C': {'A': 0, 'B': 0, 'D': 0}}"
      ]
     },
     "execution_count": 29,
     "metadata": {},
     "output_type": "execute_result"
    }
   ],
   "source": [
    "# 相似度的分子部分\n",
    "C1 = dict()\n",
    "C2 = dict()\n",
    "C3 = dict()\n",
    "for i, users in item_users.items():\n",
    "    for u in users:\n",
    "        for v in users:\n",
    "            if u == v:\n",
    "                continue\n",
    "            C1.setdefault(u, {})\n",
    "            C1[u].setdefault(v, 0)\n",
    "            C2.setdefault(u, {})\n",
    "            C2[u].setdefault(v, 0)\n",
    "            C3.setdefault(u, {})\n",
    "            C3[u].setdefault(v, 0)\n",
    "\n",
    "            if similarityMeasure == \"cosine\":\n",
    "                C1[u][v] += ((train_data[u][i]) * (\n",
    "                        train_data[v][i] ))\n",
    "                C2[u][v] += ((train_data[u][i]) * (\n",
    "                        train_data[u][i] ))\n",
    "                C3[u][v] += ((train_data[v][i] ) * (\n",
    "                        train_data[v][i] ))\n",
    "            else:\n",
    "                C1[u][v] += ((train_data[u][i] - average_rating[u]) * (\n",
    "                        train_data[v][i] - average_rating[v]))\n",
    "                C2[u][v] += ((train_data[u][i] - average_rating[u]) * (\n",
    "                        train_data[u][i] - average_rating[u]))\n",
    "                C3[u][v] += ((train_data[v][i] - average_rating[v]) * (\n",
    "                        train_data[v][i] - average_rating[v]))\n",
    "\n",
    "# 计算最终的用户相似度矩阵\n",
    "user_sim = dict()\n",
    "for u, related_users in C1.items():\n",
    "    user_sim[u] = {}\n",
    "    for v, cuv in related_users.items():\n",
    "        # print(C1[u][v],\"  \",C2[u][v],\"  \",C3[u][v])\n",
    "        if C1[u][v]==0:\n",
    "            user_sim[u][v]=0\n",
    "        else:\n",
    "            user_sim[u][v] = C1[u][v] / math.sqrt(C2[u][v] * C3[u][v])\n",
    "user_sim"
   ]
  },
  {
   "cell_type": "code",
   "execution_count": 32,
   "metadata": {},
   "outputs": [],
   "source": [
    "def predict(user, item):\n",
    "    rui = average_rating[user]\n",
    "    # 分子和分母\n",
    "    C1 = 0\n",
    "    C2 = 0\n",
    "    for similar_user, similarity_factor in sorted(user_sim[user].items(),\n",
    "                                                  key=itemgetter(1), reverse=True)[0:K]:\n",
    "        if item not in train_data[similar_user]:\n",
    "            continue\n",
    "        C1 += similarity_factor * (train_data[similar_user][item] - average_rating[similar_user])\n",
    "        C2 += math.fabs(similarity_factor)\n",
    "    if not C1==0:\n",
    "        rui += (C1 / C2)\n",
    "    else :\n",
    "        rui=0\n",
    "    return rui"
   ]
  },
  {
   "cell_type": "code",
   "execution_count": 33,
   "metadata": {},
   "outputs": [
    {
     "data": {
      "text/plain": [
       "4.224744871391589"
      ]
     },
     "execution_count": 33,
     "metadata": {},
     "output_type": "execute_result"
    }
   ],
   "source": [
    "predict('A','e')"
   ]
  },
  {
   "cell_type": "code",
   "execution_count": null,
   "metadata": {},
   "outputs": [],
   "source": []
  }
 ],
 "metadata": {
  "kernelspec": {
   "display_name": "Python 3",
   "language": "python",
   "name": "python3"
  },
  "language_info": {
   "codemirror_mode": {
    "name": "ipython",
    "version": 3
   },
   "file_extension": ".py",
   "mimetype": "text/x-python",
   "name": "python",
   "nbconvert_exporter": "python",
   "pygments_lexer": "ipython3",
   "version": "3.6.8"
  }
 },
 "nbformat": 4,
 "nbformat_minor": 4
}
