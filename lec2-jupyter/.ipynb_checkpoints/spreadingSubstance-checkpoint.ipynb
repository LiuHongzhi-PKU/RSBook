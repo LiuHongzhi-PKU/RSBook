{
 "cells": [
  {
   "cell_type": "code",
   "execution_count": 46,
   "metadata": {},
   "outputs": [],
   "source": [
    "import random\n",
    "from collections import defaultdict\n",
    "import argparse\n",
    "import pandas as pd\n",
    "from tqdm import tqdm\n",
    "\n",
    "N=10\n",
    "step=5\n",
    "data_file=\"../data/TopN-jupyter.txt\""
   ]
  },
  {
   "cell_type": "code",
   "execution_count": 47,
   "metadata": {},
   "outputs": [
    {
     "data": {
      "text/plain": [
       "{'A': {'b': 1, 'd': 1},\n",
       " 'B': {'a': 1, 'b': 1, 'c': 1},\n",
       " 'C': {'a': 1, 'b': 1, 'd': 1},\n",
       " 'D': {'a': 1, 'e': 1}}"
      ]
     },
     "execution_count": 47,
     "metadata": {},
     "output_type": "execute_result"
    }
   ],
   "source": [
    "data_fields = ['user_id', 'item_id']\n",
    "data = pd.read_table(data_file, names=data_fields)\n",
    "# 二维字典\n",
    "train_data = {}\n",
    "\n",
    "# 按照1:9划分数据集\n",
    "for (user, item) in data.itertuples(index=False):\n",
    "    train_data.setdefault(user,{})\n",
    "    train_data[user][item] = 1\n",
    "\n",
    "n_users = len(set(data['user_id'].values))\n",
    "n_items = len(set(data['item_id'].values))\n",
    "train_data"
   ]
  },
  {
   "cell_type": "code",
   "execution_count": 48,
   "metadata": {},
   "outputs": [
    {
     "data": {
      "text/plain": [
       "{'b': {'A', 'B', 'C'},\n",
       " 'd': {'A', 'C'},\n",
       " 'a': {'B', 'C', 'D'},\n",
       " 'c': {'B'},\n",
       " 'e': {'D'}}"
      ]
     },
     "execution_count": 48,
     "metadata": {},
     "output_type": "execute_result"
    }
   ],
   "source": [
    "# 建立item_user倒排表\n",
    "item_users = dict()\n",
    "for u, items in train_data.items():\n",
    "    for i in items:\n",
    "        if i not in item_users:\n",
    "            item_users[i] = set()\n",
    "        item_users[i].add(u)\n",
    "item_users"
   ]
  },
  {
   "cell_type": "code",
   "execution_count": 49,
   "metadata": {},
   "outputs": [
    {
     "name": "stderr",
     "output_type": "stream",
     "text": [
      "100%|███████████████████████████████████████████████████████████████████████████████████| 4/4 [00:00<00:00, 445.56it/s]"
     ]
    },
    {
     "name": "stdout",
     "output_type": "stream",
     "text": [
      "A\n",
      "defaultdict(<class 'int'>, {'a': 0.5747583905421768, 'b': 0.6298488100190096, 'c': 0.20007555959880774, 'd': 0.42977325042020187, 'e': 0.16554398941980386})\n",
      "B\n",
      "defaultdict(<class 'int'>, {'a': 0.8974484511803753, 'b': 0.9049897582410369, 'c': 0.3050936774966553, 'd': 0.5998960807443816, 'e': 0.2925720323375501})\n",
      "C\n",
      "defaultdict(<class 'int'>, {'a': 0.8833576312151773, 'b': 0.9195764752842979, 'c': 0.29978274134617017, 'd': 0.6197937339381276, 'e': 0.2774894182162272})\n",
      "D\n",
      "defaultdict(<class 'int'>, {'a': 0.6444355270622703, 'b': 0.5455849564556554, 'c': 0.19504802155836676, 'd': 0.35053693489728865, 'e': 0.2643945600264187})\n"
     ]
    },
    {
     "name": "stderr",
     "output_type": "stream",
     "text": [
      "\n"
     ]
    }
   ],
   "source": [
    "user_item = train_data\n",
    "rec_item = defaultdict(list)\n",
    "for u in tqdm(user_item):\n",
    "    item_cnt = defaultdict(int)\n",
    "    user_cnt = defaultdict(int)\n",
    "    for i in user_item[u]:\n",
    "        item_cnt[i] = 1\n",
    "\n",
    "\n",
    "    for k in range(step*2):\n",
    "        if k % 2 == 1:\n",
    "            # 用户扩散项目\n",
    "            item_cnt = defaultdict(int)\n",
    "            for user in user_cnt:\n",
    "                for item in user_item[user]:\n",
    "                    item_cnt[item] += user_cnt[user] / len(user_item[user])\n",
    "        else:\n",
    "            # 项目扩散用户\n",
    "            user_cnt = defaultdict(int)\n",
    "            for item in item_cnt:\n",
    "                for user in item_users[item]:\n",
    "                    user_cnt[user] += item_cnt[item] / (len(item_users[item]))\n",
    "    res = ((pd.DataFrame(item_cnt, index=[0])).T).sort_values([0], ascending=[0]).index.tolist()\n",
    "    rec_item[u] = [i for i in res if i not in user_item[u]]\n",
    "    print(u)\n",
    "    print(item_cnt)"
   ]
  },
  {
   "cell_type": "code",
   "execution_count": null,
   "metadata": {},
   "outputs": [],
   "source": []
  },
  {
   "cell_type": "code",
   "execution_count": null,
   "metadata": {},
   "outputs": [],
   "source": []
  }
 ],
 "metadata": {
  "kernelspec": {
   "display_name": "Python 3",
   "language": "python",
   "name": "python3"
  },
  "language_info": {
   "codemirror_mode": {
    "name": "ipython",
    "version": 3
   },
   "file_extension": ".py",
   "mimetype": "text/x-python",
   "name": "python",
   "nbconvert_exporter": "python",
   "pygments_lexer": "ipython3",
   "version": "3.6.8"
  }
 },
 "nbformat": 4,
 "nbformat_minor": 4
}
