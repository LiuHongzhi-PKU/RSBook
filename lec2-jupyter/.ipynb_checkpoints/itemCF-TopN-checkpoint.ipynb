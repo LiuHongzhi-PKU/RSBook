{
 "cells": [
  {
   "cell_type": "code",
   "execution_count": 26,
   "metadata": {},
   "outputs": [],
   "source": [
    "import random\n",
    "import pandas as pd\n",
    "import numpy as np\n",
    "import math\n",
    "from operator import itemgetter\n",
    "import argparse\n",
    "np.random.seed(1024)\n",
    "\n",
    "K=20\n",
    "N=10\n",
    "similarityMeasure=\"cosine\"\n",
    "data_file=\"../data/TopN-jupyter.txt\""
   ]
  },
  {
   "cell_type": "code",
   "execution_count": 27,
   "metadata": {},
   "outputs": [
    {
     "data": {
      "text/plain": [
       "{'A': {'b': 1, 'd': 1},\n",
       " 'B': {'a': 1, 'b': 1, 'c': 1},\n",
       " 'C': {'a': 1, 'b': 1, 'd': 1},\n",
       " 'D': {'a': 1, 'e': 1}}"
      ]
     },
     "execution_count": 27,
     "metadata": {},
     "output_type": "execute_result"
    }
   ],
   "source": [
    "data_fields = ['user_id', 'item_id']\n",
    "data = pd.read_table(data_file, names=data_fields)\n",
    "# 二维字典\n",
    "train_data = {}\n",
    "\n",
    "# 按照1:9划分数据集\n",
    "for (user, item) in data.itertuples(index=False):\n",
    "    train_data.setdefault(user,{})\n",
    "    train_data[user][item] = 1\n",
    "\n",
    "n_users = len(set(data['user_id'].values))\n",
    "n_items = len(set(data['item_id'].values))\n",
    "train_data"
   ]
  },
  {
   "cell_type": "code",
   "execution_count": 28,
   "metadata": {},
   "outputs": [
    {
     "data": {
      "text/plain": [
       "{'b': 3, 'd': 2, 'a': 3, 'c': 1, 'e': 1}"
      ]
     },
     "execution_count": 28,
     "metadata": {},
     "output_type": "execute_result"
    }
   ],
   "source": [
    "# 计算每个物品被用户评分的个数\n",
    "item_cnt = {}\n",
    "for user, items in train_data.items():\n",
    "    for i in items:\n",
    "        # count item popularity\n",
    "        item_cnt.setdefault(i,0)\n",
    "        item_cnt[i] += 1\n",
    "item_cnt"
   ]
  },
  {
   "cell_type": "code",
   "execution_count": 29,
   "metadata": {},
   "outputs": [],
   "source": [
    " # 计算物品之间共同评分的物品数,C为修正后的，count为修正前的。\n",
    "C = dict()\n",
    "count=dict()\n",
    "for user, items in train_data.items():\n",
    "    for u in items:\n",
    "        for v in items:\n",
    "            if u == v:\n",
    "                continue\n",
    "            C.setdefault(u,{})\n",
    "            C[u].setdefault(v,0)\n",
    "            C[u][v] += math.log(n_items/len(items))\n",
    "\n",
    "            count.setdefault(u, {})\n",
    "            count[u].setdefault(v, 0)\n",
    "            count[u][v] += 1\n"
   ]
  },
  {
   "cell_type": "code",
   "execution_count": 30,
   "metadata": {},
   "outputs": [
    {
     "data": {
      "text/plain": [
       "{'b': {'d': 1.4271163556401458,\n",
       "  'a': 1.0216512475319814,\n",
       "  'c': 0.5108256237659907},\n",
       " 'd': {'b': 1.4271163556401458, 'a': 0.5108256237659907},\n",
       " 'a': {'b': 1.0216512475319814,\n",
       "  'c': 0.5108256237659907,\n",
       "  'd': 0.5108256237659907,\n",
       "  'e': 0.9162907318741551},\n",
       " 'c': {'a': 0.5108256237659907, 'b': 0.5108256237659907},\n",
       " 'e': {'a': 0.9162907318741551}}"
      ]
     },
     "execution_count": 30,
     "metadata": {},
     "output_type": "execute_result"
    }
   ],
   "source": [
    "C"
   ]
  },
  {
   "cell_type": "code",
   "execution_count": 31,
   "metadata": {},
   "outputs": [
    {
     "data": {
      "text/plain": [
       "{'b': {'d': 2, 'a': 2, 'c': 1},\n",
       " 'd': {'b': 2, 'a': 1},\n",
       " 'a': {'b': 2, 'c': 1, 'd': 1, 'e': 1},\n",
       " 'c': {'a': 1, 'b': 1},\n",
       " 'e': {'a': 1}}"
      ]
     },
     "execution_count": 31,
     "metadata": {},
     "output_type": "execute_result"
    }
   ],
   "source": [
    "count"
   ]
  },
  {
   "cell_type": "code",
   "execution_count": 32,
   "metadata": {},
   "outputs": [
    {
     "data": {
      "text/plain": [
       "{'b': {'d': 0.8164965809277261,\n",
       "  'a': 0.6666666666666666,\n",
       "  'c': 0.5773502691896258},\n",
       " 'd': {'b': 0.8164965809277261, 'a': 0.4082482904638631},\n",
       " 'a': {'b': 0.6666666666666666,\n",
       "  'c': 0.5773502691896258,\n",
       "  'd': 0.4082482904638631,\n",
       "  'e': 0.5773502691896258},\n",
       " 'c': {'a': 0.5773502691896258, 'b': 0.5773502691896258},\n",
       " 'e': {'a': 0.5773502691896258}}"
      ]
     },
     "execution_count": 32,
     "metadata": {},
     "output_type": "execute_result"
    }
   ],
   "source": [
    "# 计算最终的物品相似度矩阵\n",
    "item_sim = dict()\n",
    "for u, related_items in C.items():\n",
    "    item_sim[u]={}\n",
    "    for v, cuv in related_items.items():\n",
    "        if similarityMeasure==\"cosine\":\n",
    "            item_sim[u][v] = count[u][v] / math.sqrt(item_cnt[u] * item_cnt[v])\n",
    "#             item_sim[u][v] = cuv / math.sqrt(item_cnt[u] * item_cnt[v])\n",
    "        else:\n",
    "            item_sim[u][v] = count[u][v] / (item_cnt[u])\n",
    "item_sim"
   ]
  },
  {
   "cell_type": "code",
   "execution_count": 33,
   "metadata": {},
   "outputs": [],
   "source": [
    "def predict( user):\n",
    "    rank = dict()\n",
    "    interacted_items = train_data[user]\n",
    "\n",
    "    # 对每个评分的物品寻找最近K个物品，构建评分列表\n",
    "    for item, rating in interacted_items.items():\n",
    "        for similar_item, similarity_factor in sorted(item_sim[item].items(),\n",
    "                                                       key=itemgetter(1), reverse=True)[:K]:\n",
    "            if similar_item in interacted_items:\n",
    "                continue\n",
    "            rank.setdefault(similar_item, 0)\n",
    "            # rank[similar_item] += similarity_factor * rating\n",
    "            rank[similar_item] += similarity_factor\n",
    "\n",
    "    rec_list = []\n",
    "    rec_items = sorted(rank.items(), key=itemgetter(1), reverse=True)[0:N]\n",
    "    for item, score in rec_items:\n",
    "        rec_list.append([item,score])\n",
    "\n",
    "    # 返回最大N个物品\n",
    "    return rec_list"
   ]
  },
  {
   "cell_type": "code",
   "execution_count": 34,
   "metadata": {},
   "outputs": [
    {
     "name": "stdout",
     "output_type": "stream",
     "text": [
      "给 A 推荐： [['a', 1.0749149571305296], ['c', 0.5773502691896258]]\n",
      "给 B 推荐： [['d', 1.2247448713915892], ['e', 0.5773502691896258]]\n",
      "给 C 推荐： [['c', 1.1547005383792517], ['e', 0.5773502691896258]]\n",
      "给 D 推荐： [['b', 0.6666666666666666], ['c', 0.5773502691896258], ['d', 0.4082482904638631]]\n"
     ]
    }
   ],
   "source": [
    "for user in ['A','B','C','D']:\n",
    "        rec_list=predict(user)\n",
    "        print(\"给\",user,\"推荐：\",rec_list)"
   ]
  },
  {
   "cell_type": "code",
   "execution_count": null,
   "metadata": {},
   "outputs": [],
   "source": []
  }
 ],
 "metadata": {
  "kernelspec": {
   "display_name": "Python 3",
   "language": "python",
   "name": "python3"
  },
  "language_info": {
   "codemirror_mode": {
    "name": "ipython",
    "version": 3
   },
   "file_extension": ".py",
   "mimetype": "text/x-python",
   "name": "python",
   "nbconvert_exporter": "python",
   "pygments_lexer": "ipython3",
   "version": "3.6.8"
  }
 },
 "nbformat": 4,
 "nbformat_minor": 4
}
