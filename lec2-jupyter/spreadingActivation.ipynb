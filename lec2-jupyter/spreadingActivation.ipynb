{
 "cells": [
  {
   "cell_type": "code",
   "execution_count": 13,
   "metadata": {},
   "outputs": [],
   "source": [
    "import random\n",
    "from collections import defaultdict\n",
    "import argparse\n",
    "import pandas as pd\n",
    "from tqdm import tqdm\n",
    "\n",
    "N=10\n",
    "step=3\n",
    "data_file=\"../data/TopN-jupyter.txt\""
   ]
  },
  {
   "cell_type": "code",
   "execution_count": 14,
   "metadata": {},
   "outputs": [
    {
     "data": {
      "text/plain": [
       "{'A': {'b': 1, 'd': 1},\n",
       " 'B': {'a': 1, 'b': 1, 'c': 1},\n",
       " 'C': {'a': 1, 'b': 1, 'd': 1},\n",
       " 'D': {'a': 1, 'e': 1}}"
      ]
     },
     "execution_count": 14,
     "metadata": {},
     "output_type": "execute_result"
    }
   ],
   "source": [
    "data_fields = ['user_id', 'item_id']\n",
    "data = pd.read_table(data_file, names=data_fields)\n",
    "# 二维字典\n",
    "train_data = {}\n",
    "\n",
    "# 按照1:9划分数据集\n",
    "for (user, item) in data.itertuples(index=False):\n",
    "    train_data.setdefault(user,{})\n",
    "    train_data[user][item] = 1\n",
    "\n",
    "n_users = len(set(data['user_id'].values))\n",
    "n_items = len(set(data['item_id'].values))\n",
    "train_data"
   ]
  },
  {
   "cell_type": "code",
   "execution_count": 15,
   "metadata": {},
   "outputs": [
    {
     "data": {
      "text/plain": [
       "{'b': {'A', 'B', 'C'},\n",
       " 'd': {'A', 'C'},\n",
       " 'a': {'B', 'C', 'D'},\n",
       " 'c': {'B'},\n",
       " 'e': {'D'}}"
      ]
     },
     "execution_count": 15,
     "metadata": {},
     "output_type": "execute_result"
    }
   ],
   "source": [
    "# 建立item_user倒排表\n",
    "item_users = dict()\n",
    "for u, items in train_data.items():\n",
    "    for i in items:\n",
    "        if i not in item_users:\n",
    "            item_users[i] = set()\n",
    "        item_users[i].add(u)\n",
    "item_users"
   ]
  },
  {
   "cell_type": "code",
   "execution_count": 16,
   "metadata": {},
   "outputs": [
    {
     "name": "stderr",
     "output_type": "stream",
     "text": [
      "100%|███████████████████████████████████████████████████████████████████████████████████| 4/4 [00:00<00:00, 286.47it/s]\n"
     ]
    },
    {
     "data": {
      "text/plain": [
       "defaultdict(list,\n",
       "            {'A': ['a', 'c'],\n",
       "             'B': ['d', 'e'],\n",
       "             'C': ['e', 'c'],\n",
       "             'D': ['b', 'c', 'd']})"
      ]
     },
     "execution_count": 16,
     "metadata": {},
     "output_type": "execute_result"
    }
   ],
   "source": [
    "user_item = train_data\n",
    "rec_item = defaultdict(list)\n",
    "for u in tqdm(user_item):\n",
    "    # 每个物品第几步被扩散到\n",
    "    visit_step = defaultdict(int)\n",
    "    # 物品扩散到的次数\n",
    "    visit_cnt = defaultdict(int)\n",
    "\n",
    "    user_set = set()\n",
    "    user_set.add(u)\n",
    "    item_set = set()\n",
    "    for k in range(step):\n",
    "        if k % 2 == 0:\n",
    "            # 用户扩散项目\n",
    "            for user in user_set:\n",
    "                for item in user_item[user]:\n",
    "                    if item not in visit_step:\n",
    "                        visit_step[item] = k + 1\n",
    "                    visit_cnt[item] += 1\n",
    "                item_set.update(set(user_item[user]))\n",
    "            user_set = set()\n",
    "        else:\n",
    "            # 项目扩散用户\n",
    "            for item in item_set:\n",
    "                user_set.update(set(item_users[item]))\n",
    "            item_set = set()\n",
    "\n",
    "    res = ((pd.DataFrame(visit_cnt, index=[0]).append(pd.DataFrame(visit_step, index=[1]))).T).sort_values(\n",
    "        [1, 0], ascending=[1, 0]).index.tolist()\n",
    "\n",
    "    rec_item[u] = [i for i in res if i not in user_item[u]]\n",
    "rec_item "
   ]
  },
  {
   "cell_type": "code",
   "execution_count": null,
   "metadata": {},
   "outputs": [],
   "source": []
  },
  {
   "cell_type": "code",
   "execution_count": null,
   "metadata": {},
   "outputs": [],
   "source": []
  },
  {
   "cell_type": "code",
   "execution_count": null,
   "metadata": {},
   "outputs": [],
   "source": []
  }
 ],
 "metadata": {
  "kernelspec": {
   "display_name": "Python 3",
   "language": "python",
   "name": "python3"
  },
  "language_info": {
   "codemirror_mode": {
    "name": "ipython",
    "version": 3
   },
   "file_extension": ".py",
   "mimetype": "text/x-python",
   "name": "python",
   "nbconvert_exporter": "python",
   "pygments_lexer": "ipython3",
   "version": "3.6.8"
  }
 },
 "nbformat": 4,
 "nbformat_minor": 4
}
