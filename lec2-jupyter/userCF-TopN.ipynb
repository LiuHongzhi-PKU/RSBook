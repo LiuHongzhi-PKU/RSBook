{
 "cells": [
  {
   "cell_type": "code",
   "execution_count": 43,
   "metadata": {},
   "outputs": [],
   "source": [
    "import random\n",
    "import pandas as pd\n",
    "import numpy as np\n",
    "import math\n",
    "from operator import itemgetter\n",
    "import argparse\n",
    "np.random.seed(1024)\n",
    "\n",
    "K=20\n",
    "N=10\n",
    "similarityMeasure=\"cosine\"\n",
    "data_file=\"../data/TopN-jupyter.txt\""
   ]
  },
  {
   "cell_type": "code",
   "execution_count": 44,
   "metadata": {},
   "outputs": [],
   "source": [
    "data_fields = ['user_id', 'item_id']\n",
    "data = pd.read_table(data_file, names=data_fields)\n",
    "# 二维字典\n",
    "train_data = {}\n",
    "\n",
    "# 按照1:9划分数据集\n",
    "for (user, item) in data.itertuples(index=False):\n",
    "    train_data.setdefault(user,{})\n",
    "    train_data[user][item] = 1\n",
    "\n",
    "n_users = len(set(data['user_id'].values))\n",
    "n_items = len(set(data['item_id'].values))\n"
   ]
  },
  {
   "cell_type": "code",
   "execution_count": 45,
   "metadata": {},
   "outputs": [
    {
     "data": {
      "text/plain": [
       "{'A': {'b': 1, 'd': 1},\n",
       " 'B': {'a': 1, 'b': 1, 'c': 1},\n",
       " 'C': {'a': 1, 'b': 1, 'd': 1},\n",
       " 'D': {'a': 1, 'e': 1}}"
      ]
     },
     "execution_count": 45,
     "metadata": {},
     "output_type": "execute_result"
    }
   ],
   "source": [
    "train_data"
   ]
  },
  {
   "cell_type": "code",
   "execution_count": 46,
   "metadata": {},
   "outputs": [
    {
     "data": {
      "text/plain": [
       "{'b': {'A', 'B', 'C'},\n",
       " 'd': {'A', 'C'},\n",
       " 'a': {'B', 'C', 'D'},\n",
       " 'c': {'B'},\n",
       " 'e': {'D'}}"
      ]
     },
     "execution_count": 46,
     "metadata": {},
     "output_type": "execute_result"
    }
   ],
   "source": [
    "# 建立item_user倒排表\n",
    "# item->set\n",
    "item_users = dict()\n",
    "for u, items in train_data.items():\n",
    "    for i in items:\n",
    "        if i not in item_users:\n",
    "            item_users[i] = set()\n",
    "        item_users[i].add(u)\n",
    "item_users"
   ]
  },
  {
   "cell_type": "code",
   "execution_count": 50,
   "metadata": {},
   "outputs": [
    {
     "data": {
      "text/plain": [
       "{'A': {'B': 0.4082482904638631, 'C': 0.8164965809277261},\n",
       " 'B': {'A': 0.4082482904638631,\n",
       "  'C': 0.6666666666666666,\n",
       "  'D': 0.4082482904638631},\n",
       " 'C': {'A': 0.8164965809277261,\n",
       "  'B': 0.6666666666666666,\n",
       "  'D': 0.4082482904638631},\n",
       " 'D': {'B': 0.4082482904638631, 'C': 0.4082482904638631}}"
      ]
     },
     "execution_count": 50,
     "metadata": {},
     "output_type": "execute_result"
    }
   ],
   "source": [
    " # 计算用户之间共同评分的物品数,C为修正后的，count为修正前的。\n",
    "C = dict()\n",
    "count = dict()\n",
    "for i, users in item_users.items():\n",
    "    for u in users:\n",
    "        for v in users:\n",
    "            if u == v:\n",
    "                continue\n",
    "            C.setdefault(u,{})\n",
    "            C[u].setdefault(v,0)\n",
    "            # 对热门物品进行惩罚\n",
    "            C[u][v] += math.log(n_users/len(users))\n",
    "            # 计算最终的用户相似度矩阵\n",
    "\n",
    "            count.setdefault(u, {})\n",
    "            count[u].setdefault(v, 0)\n",
    "            count[u][v] += 1\n",
    "user_sim = dict()\n",
    "for u, related_users in C.items():\n",
    "    user_sim[u]={}\n",
    "    for v, cuv in related_users.items():\n",
    "        if similarityMeasure == \"cosine\":\n",
    "#             user_sim[u][v] = cuv / math.sqrt(len(train_data[u]) * len(train_data[v]))\n",
    "            user_sim[u][v] = count[u][v] / math.sqrt(len(train_data[u]) * len(train_data[v]))\n",
    "        else:\n",
    "            user_sim[u][v] = count[u][v] / (len(train_data[u])+len(train_data[v])-count[u][v])\n",
    "user_sim"
   ]
  },
  {
   "cell_type": "code",
   "execution_count": 51,
   "metadata": {},
   "outputs": [],
   "source": [
    "def predict(user):\n",
    "    rank = dict()\n",
    "    interacted_items = train_data[user]\n",
    "\n",
    "    # 寻找最近的K个用户，利用它们的评分信息构造推荐列表\n",
    "    for similar_user, similarity_factor in sorted(user_sim[user].items(),\n",
    "                                                  key=itemgetter(1), reverse=True)[0:K]:\n",
    "        for movie in train_data[similar_user]:\n",
    "            if movie in interacted_items:\n",
    "                continue\n",
    "            rank.setdefault(movie, 0)\n",
    "            # rank[movie] += similarity_factor*self.train_data[similar_user][movie]\n",
    "            rank[movie] += similarity_factor\n",
    "\n",
    "    rec_list=[]\n",
    "    rec_items=sorted(rank.items(), key=itemgetter(1), reverse=True)[0:N]\n",
    "    for item,score in rec_items:\n",
    "        rec_list.append([item,score])\n",
    "    return rec_list"
   ]
  },
  {
   "cell_type": "code",
   "execution_count": 52,
   "metadata": {},
   "outputs": [
    {
     "name": "stdout",
     "output_type": "stream",
     "text": [
      "给 A 推荐： [['a', 1.2247448713915892], ['c', 0.4082482904638631]]\n",
      "给 B 推荐： [['d', 1.0749149571305296], ['e', 0.4082482904638631]]\n",
      "给 C 推荐： [['c', 0.6666666666666666], ['e', 0.4082482904638631]]\n",
      "给 D 推荐： [['b', 0.8164965809277261], ['c', 0.4082482904638631], ['d', 0.4082482904638631]]\n"
     ]
    }
   ],
   "source": [
    "for user in ['A','B','C','D']:\n",
    "        rec_list=predict(user)\n",
    "        print(\"给\",user,\"推荐：\",rec_list)"
   ]
  },
  {
   "cell_type": "code",
   "execution_count": null,
   "metadata": {},
   "outputs": [],
   "source": []
  }
 ],
 "metadata": {
  "kernelspec": {
   "display_name": "Python 3",
   "language": "python",
   "name": "python3"
  },
  "language_info": {
   "codemirror_mode": {
    "name": "ipython",
    "version": 3
   },
   "file_extension": ".py",
   "mimetype": "text/x-python",
   "name": "python",
   "nbconvert_exporter": "python",
   "pygments_lexer": "ipython3",
   "version": "3.6.8"
  }
 },
 "nbformat": 4,
 "nbformat_minor": 4
}
